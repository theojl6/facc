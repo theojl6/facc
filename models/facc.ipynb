{
  "nbformat": 4,
  "nbformat_minor": 0,
  "metadata": {
    "colab": {
      "name": "facc.ipynb",
      "provenance": []
    },
    "kernelspec": {
      "name": "python3",
      "display_name": "Python 3"
    },
    "language_info": {
      "name": "python"
    }
  },
  "cells": [
    {
      "cell_type": "code",
      "metadata": {
        "colab": {
          "base_uri": "https://localhost:8080/"
        },
        "id": "oyoOUpk7n5bP",
        "outputId": "654e86ab-e373-451d-87e5-9c3618b839f3"
      },
      "source": [
        "from google.colab import drive\n",
        "drive.mount('/content/drive/')"
      ],
      "execution_count": 2,
      "outputs": [
        {
          "output_type": "stream",
          "text": [
            "Mounted at /content/drive/\n"
          ],
          "name": "stdout"
        }
      ]
    },
    {
      "cell_type": "code",
      "metadata": {
        "id": "t_a9BY82vh0R"
      },
      "source": [
        "import os\n",
        "os.chdir('/content/drive/MyDrive/Colab Notebooks/facc/facc_data/')"
      ],
      "execution_count": 12,
      "outputs": []
    },
    {
      "cell_type": "code",
      "metadata": {
        "id": "_aB7eykQ0RpS"
      },
      "source": [
        "import cv2\n",
        "import numpy as np\n",
        "\n",
        "def load_images(folder):\n",
        "  images = []\n",
        "  for filename in os.listdir(folder):\n",
        "    img = cv2.imread(os.path.join(folder, filename))\n",
        "    if img is not None:\n",
        "      img = cv2.resize(img, (256, 256))\n",
        "      img = img / 255.\n",
        "      images.append(img)\n",
        "  return np.array(images)"
      ],
      "execution_count": 15,
      "outputs": []
    },
    {
      "cell_type": "code",
      "metadata": {
        "colab": {
          "base_uri": "https://localhost:8080/"
        },
        "id": "ti6oxbFE4KvO",
        "outputId": "ce189921-84fd-470f-e1df-796502741fca"
      },
      "source": [
        "!ls"
      ],
      "execution_count": 13,
      "outputs": [
        {
          "output_type": "stream",
          "text": [
            "fishandchipimgs  notfishandchipimgs\n"
          ],
          "name": "stdout"
        }
      ]
    },
    {
      "cell_type": "code",
      "metadata": {
        "id": "to8CYBDQ3me3"
      },
      "source": [
        "fac = load_images('fishandchipimgs')\n",
        "not_fac = load_images('notfishandchipimgs')"
      ],
      "execution_count": 16,
      "outputs": []
    },
    {
      "cell_type": "code",
      "metadata": {
        "id": "FuIQ24C24l60"
      },
      "source": [
        "X = np.concatenate((fac, not_fac), axis=0)\n",
        "y = np.zeros((X.shape[0]))\n",
        "y[:fac.shape[0]] = 1"
      ],
      "execution_count": 18,
      "outputs": []
    },
    {
      "cell_type": "code",
      "metadata": {
        "colab": {
          "base_uri": "https://localhost:8080/"
        },
        "id": "woX2UIJk51wz",
        "outputId": "d7b92605-e5ad-42e8-8841-ffaad6c9c604"
      },
      "source": [
        "print(X.shape)\n",
        "print(y.shape)"
      ],
      "execution_count": 19,
      "outputs": [
        {
          "output_type": "stream",
          "text": [
            "(148, 256, 256, 3)\n",
            "(148,)\n"
          ],
          "name": "stdout"
        }
      ]
    },
    {
      "cell_type": "code",
      "metadata": {
        "id": "lWmG_KfZ7KY6"
      },
      "source": [
        "X_flattened = X.reshape(X.shape[0], 256 * 256 * 3)"
      ],
      "execution_count": 28,
      "outputs": []
    },
    {
      "cell_type": "code",
      "metadata": {
        "id": "hVbdRmsM56x0"
      },
      "source": [
        "from sklearn.model_selection import train_test_split\n",
        "X_train, X_test, y_train, y_test = train_test_split(X_flattened, y, test_size = 0.2)"
      ],
      "execution_count": 31,
      "outputs": []
    },
    {
      "cell_type": "code",
      "metadata": {
        "colab": {
          "base_uri": "https://localhost:8080/"
        },
        "id": "Q_GPncIT6llp",
        "outputId": "37457f4f-ad09-481d-b728-8a0b7b1dccf5"
      },
      "source": [
        "from sklearn.svm import LinearSVC\n",
        "linclf = LinearSVC()\n",
        "linclf.fit(X_train, y_train)"
      ],
      "execution_count": 32,
      "outputs": [
        {
          "output_type": "execute_result",
          "data": {
            "text/plain": [
              "LinearSVC(C=1.0, class_weight=None, dual=True, fit_intercept=True,\n",
              "          intercept_scaling=1, loss='squared_hinge', max_iter=1000,\n",
              "          multi_class='ovr', penalty='l2', random_state=None, tol=0.0001,\n",
              "          verbose=0)"
            ]
          },
          "metadata": {
            "tags": []
          },
          "execution_count": 32
        }
      ]
    },
    {
      "cell_type": "code",
      "metadata": {
        "colab": {
          "base_uri": "https://localhost:8080/"
        },
        "id": "Bhj9xt5j65HH",
        "outputId": "41415f1e-ca5a-4d7d-e15e-aad859538726"
      },
      "source": [
        "from sklearn.metrics import classification_report\n",
        "y_pred = linclf.predict(X_test)\n",
        "print(classification_report(y_test, y_pred))"
      ],
      "execution_count": 33,
      "outputs": [
        {
          "output_type": "stream",
          "text": [
            "              precision    recall  f1-score   support\n",
            "\n",
            "         0.0       0.56      0.42      0.48        12\n",
            "         1.0       0.67      0.78      0.72        18\n",
            "\n",
            "    accuracy                           0.63        30\n",
            "   macro avg       0.61      0.60      0.60        30\n",
            "weighted avg       0.62      0.63      0.62        30\n",
            "\n"
          ],
          "name": "stdout"
        }
      ]
    },
    {
      "cell_type": "code",
      "metadata": {
        "id": "uU8lFWlW8bd7"
      },
      "source": [
        "import pickle\n",
        "pickle.dump(linclf, open('facc_model.pkl', 'wb'))"
      ],
      "execution_count": 34,
      "outputs": []
    },
    {
      "cell_type": "code",
      "metadata": {
        "id": "X3BFuu4fAPbr"
      },
      "source": [
        ""
      ],
      "execution_count": null,
      "outputs": []
    }
  ]
}